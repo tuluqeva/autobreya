{
  "nbformat": 4,
  "nbformat_minor": 0,
  "metadata": {
    "colab": {
      "provenance": []
    },
    "kernelspec": {
      "name": "python3",
      "display_name": "Python 3"
    },
    "language_info": {
      "name": "python"
    }
  },
  "cells": [
    {
      "cell_type": "code",
      "source": [
        "!pip install spacy-udpipe"
      ],
      "metadata": {
        "id": "ODcBbxlyhBf-"
      },
      "execution_count": null,
      "outputs": []
    },
    {
      "cell_type": "code",
      "source": [
        "!pip install stanza"
      ],
      "metadata": {
        "id": "bqcQBqtUl_Ts"
      },
      "execution_count": null,
      "outputs": []
    },
    {
      "cell_type": "code",
      "source": [
        "!pip install natasha"
      ],
      "metadata": {
        "id": "Wsi8TNJOnclh"
      },
      "execution_count": null,
      "outputs": []
    },
    {
      "cell_type": "code",
      "source": [
        "import csv"
      ],
      "metadata": {
        "id": "wLVqNAxgfSsU"
      },
      "execution_count": 15,
      "outputs": []
    },
    {
      "cell_type": "code",
      "source": [
        "import spacy_udpipe"
      ],
      "metadata": {
        "id": "j-cZgrlXg_1j"
      },
      "execution_count": 22,
      "outputs": []
    },
    {
      "cell_type": "code",
      "source": [
        "import stanza"
      ],
      "metadata": {
        "id": "_csRIJqHmEYY"
      },
      "execution_count": 41,
      "outputs": []
    },
    {
      "cell_type": "code",
      "source": [
        "from natasha import (Segmenter, NewsEmbedding, NewsMorphTagger, Doc)"
      ],
      "metadata": {
        "id": "UHQSN1gani-X"
      },
      "execution_count": 47,
      "outputs": []
    },
    {
      "cell_type": "code",
      "execution_count": 10,
      "metadata": {
        "id": "rwoS3Y83diHp"
      },
      "outputs": [],
      "source": [
        "f = open(\"mis.txt\", \"r\")\n",
        "raw = f.read()\n",
        "f.close()"
      ]
    },
    {
      "cell_type": "code",
      "source": [
        "raw"
      ],
      "metadata": {
        "colab": {
          "base_uri": "https://localhost:8080/",
          "height": 227
        },
        "id": "R9QF0IJxd35U",
        "outputId": "54824e9b-5f71-4054-8453-32a7f2f09118"
      },
      "execution_count": 11,
      "outputs": [
        {
          "output_type": "execute_result",
          "data": {
            "text/plain": [
              "'Как видите, все арго — и то, которое было в ходу четыреста лет тому назад, и современное — насквозь проникнуты тем символическим духом, который придает словам то вид угрозы, то вид страдания и печали. В нем так и чувствуется дикая печаль тех жалких бродяг Двора чудес прежних времен, которые играли в карты особого образца. Некоторые из таких карт дошли до нас. Например, трефовая восьмерка изображалась на них в виде большого дерева с огромными трилистниками — символ леса. Под этим деревом виден костер, на котором три зайца поджаривают насаженного на вертел охотника, а на другом костре стоит дымящийся котелок, из которого выглядывает голова собаки. Что может быть зловещее этих карточных изображений с кострами для поджаривания контрабандистов и кипящими котлами для фальшивомонетчиков? Различные формы, в которые облекалась мысль в царстве арго, сама песня, сама насмешка, даже сама угроза, — все носит на себе характер бессилия и подавленности. Все песни арго, напевы которых сохранились до нашего времени, были печальны до слез. Обездоленный всегда рисуется в этих песнях зайцем, который прячется, мышью, убегающей со всех ног, птицей, спасающейся от ловцов. Он едва осмеливается требовать, довольствуясь одними вздохами. До нас дошло одно из таких философских стенаний: \"Я мерекаю, мерекаю и в толк не возьму, как это боженька, всем людям папаша, может примучивать свое ребятье, да еще малышей, как это ему везет слышать их писк и самому не растормошиться\". Около середины прошедшего столетия произошла перемена. Песни тюрьмы, ритурнели воров, приняли, так сказать, разбитной, ухарский характер. Жалобное заменилось разухабистым. Во всех песнях, распевавшихся в восемнадцатом столетии в тюрьмах, на галерах и на каторге, сквозит чисто дьявольское, загадочное веселье. Между прочим часто слышался следующий резкий, точно подскакивающий припев, мерцающий фосфорическим светом и заброшенный в лес трелью дудочника.'"
            ],
            "application/vnd.google.colaboratory.intrinsic+json": {
              "type": "string"
            }
          },
          "metadata": {},
          "execution_count": 11
        }
      ]
    },
    {
      "cell_type": "markdown",
      "source": [
        "Токенизация (для разметки вручную) и чтение файла с готовой разметкой."
      ],
      "metadata": {
        "id": "WRj1jfa4sWGY"
      }
    },
    {
      "cell_type": "code",
      "source": [
        "raw_splt = raw.split(' ')\n",
        "tokens = []\n",
        "for x in raw_splt:\n",
        "  x = x.strip('''\"   ?!/.,.—-()\\n''').lower()\n",
        "  if x != '':\n",
        "    tokens.append(x)"
      ],
      "metadata": {
        "id": "PtexJ-zKd56E"
      },
      "execution_count": 12,
      "outputs": []
    },
    {
      "cell_type": "code",
      "source": [
        "tokens"
      ],
      "metadata": {
        "id": "58OLQr9reaSJ"
      },
      "execution_count": null,
      "outputs": []
    },
    {
      "cell_type": "code",
      "source": [
        "f = open('0.csv', 'w')\n",
        "writer = csv.writer(f)\n",
        "for x in tokens:\n",
        "  writer.writerow([x])\n",
        "f.close()"
      ],
      "metadata": {
        "id": "_Xg_Sc3dfAxI"
      },
      "execution_count": 16,
      "outputs": []
    },
    {
      "cell_type": "code",
      "source": [
        "pos0 = list()\n",
        "f = open('0_pos.csv', 'r') \n",
        "reader = csv.reader(f, delimiter=',')\n",
        "for x in reader:\n",
        "  pos0.append(x)\n",
        "f.close()"
      ],
      "metadata": {
        "id": "01gfP9x9fGOg"
      },
      "execution_count": 33,
      "outputs": []
    },
    {
      "cell_type": "markdown",
      "source": [
        "Список с результатами моей разметки."
      ],
      "metadata": {
        "id": "cMEuAbRkst4G"
      }
    },
    {
      "cell_type": "code",
      "source": [
        "pos0"
      ],
      "metadata": {
        "colab": {
          "base_uri": "https://localhost:8080/"
        },
        "id": "RjSPSeKMgnHT",
        "outputId": "8db84915-ade2-48f4-b697-84c8cce49aa2"
      },
      "execution_count": 34,
      "outputs": [
        {
          "output_type": "execute_result",
          "data": {
            "text/plain": [
              "[['как', 'SCONJ'],\n",
              " ['видите', 'VERB'],\n",
              " ['все', 'DET'],\n",
              " ['арго', 'NOUN'],\n",
              " ['и', 'CCONJ'],\n",
              " ['то', 'PRON'],\n",
              " ['которое', 'PRON'],\n",
              " ['было', 'VERB'],\n",
              " ['в', 'ADP'],\n",
              " ['ходу', 'NOUN'],\n",
              " ['четыреста', 'NUM'],\n",
              " ['лет', 'NOUN'],\n",
              " ['тому', 'PRON'],\n",
              " ['назад', 'ADV'],\n",
              " ['и', 'CCONJ'],\n",
              " ['современное', 'ADJ'],\n",
              " ['насквозь', 'ADV'],\n",
              " ['проникнуты', 'VERB'],\n",
              " ['тем', 'DET'],\n",
              " ['символическим', 'ADJ'],\n",
              " ['духом', 'NOUN'],\n",
              " ['который', 'PRON'],\n",
              " ['придает', 'VERB'],\n",
              " ['словам', 'NOUN'],\n",
              " ['то', 'CCONJ'],\n",
              " ['вид', 'NOUN'],\n",
              " ['угрозы', 'NOUN'],\n",
              " ['то', 'CCONJ'],\n",
              " ['вид', 'NOUN'],\n",
              " ['страдания', 'NOUN'],\n",
              " ['и', 'CCONJ'],\n",
              " ['печали', 'NOUN'],\n",
              " ['в', 'ADP'],\n",
              " ['нем', 'PRON'],\n",
              " ['так', 'ADV'],\n",
              " ['и', 'PART'],\n",
              " ['чувствуется', 'VERB'],\n",
              " ['дикая', 'ADJ'],\n",
              " ['печаль', 'NOUN'],\n",
              " ['тех', 'DET'],\n",
              " ['жалких', 'ADJ'],\n",
              " ['бродяг', 'NOUN'],\n",
              " ['двора', 'NOUN'],\n",
              " ['чудес', 'NOUN'],\n",
              " ['прежних', 'ADJ'],\n",
              " ['времен', 'NOUN'],\n",
              " ['которые', 'PRON'],\n",
              " ['играли', 'VERB'],\n",
              " ['в', 'ADP'],\n",
              " ['карты', 'NOUN'],\n",
              " ['особого', 'ADJ'],\n",
              " ['образца', 'NOUN'],\n",
              " ['некоторые', 'DET'],\n",
              " ['из', 'ADP'],\n",
              " ['таких', 'DET'],\n",
              " ['карт', 'NOUN'],\n",
              " ['дошли', 'VERB'],\n",
              " ['до', 'ADP'],\n",
              " ['нас', 'PRON'],\n",
              " ['например', 'ADV'],\n",
              " ['трефовая', 'ADJ'],\n",
              " ['восьмерка', 'NOUN'],\n",
              " ['изображалась', 'VERB'],\n",
              " ['на', 'ADP'],\n",
              " ['них', 'PRON'],\n",
              " ['в', 'ADP'],\n",
              " ['виде', 'NOUN'],\n",
              " ['большого', 'ADJ'],\n",
              " ['дерева', 'NOUN'],\n",
              " ['с', 'ADP'],\n",
              " ['огромными', 'ADJ'],\n",
              " ['трилистниками', 'NOUN'],\n",
              " ['символ', 'NOUN'],\n",
              " ['леса', 'NOUN'],\n",
              " ['под', 'ADP'],\n",
              " ['этим', 'DET'],\n",
              " ['деревом', 'NOUN'],\n",
              " ['виден', 'ADJ'],\n",
              " ['костер', 'NOUN'],\n",
              " ['на', 'ADP'],\n",
              " ['котором', 'PRON'],\n",
              " ['три', 'NUM'],\n",
              " ['зайца', 'NOUN'],\n",
              " ['поджаривают', 'VERB'],\n",
              " ['насаженного', 'VERB'],\n",
              " ['на', 'ADP'],\n",
              " ['вертел', 'NOUN'],\n",
              " ['охотника', 'NOUN'],\n",
              " ['а', 'CCONJ'],\n",
              " ['на', 'ADP'],\n",
              " ['другом', 'ADJ'],\n",
              " ['костре', 'NOUN'],\n",
              " ['стоит', 'VERB'],\n",
              " ['дымящийся', 'VERB'],\n",
              " ['котелок', 'NOUN'],\n",
              " ['из', 'ADP'],\n",
              " ['которого', 'PRON'],\n",
              " ['выглядывает', 'VERB'],\n",
              " ['голова', 'NOUN'],\n",
              " ['собаки', 'NOUN'],\n",
              " ['что', 'PRON'],\n",
              " ['может', 'VERB'],\n",
              " ['быть', 'VERB'],\n",
              " ['зловещее', 'ADJ'],\n",
              " ['этих', 'DET'],\n",
              " ['карточных', 'ADJ'],\n",
              " ['изображений', 'NOUN'],\n",
              " ['с', 'ADP'],\n",
              " ['кострами', 'NOUN'],\n",
              " ['для', 'ADP'],\n",
              " ['поджаривания', 'NOUN'],\n",
              " ['контрабандистов', 'NOUN'],\n",
              " ['и', 'CCONJ'],\n",
              " ['кипящими', 'VERB'],\n",
              " ['котлами', 'NOUN'],\n",
              " ['для', 'ADP'],\n",
              " ['фальшивомонетчиков', 'NOUN'],\n",
              " ['различные', 'ADJ'],\n",
              " ['формы', 'NOUN'],\n",
              " ['в', 'ADP'],\n",
              " ['которые', 'PRON'],\n",
              " ['облекалась', 'VERB'],\n",
              " ['мысль', 'NOUN'],\n",
              " ['в', 'ADP'],\n",
              " ['царстве', 'NOUN'],\n",
              " ['арго', 'NOUN'],\n",
              " ['сама', 'DET'],\n",
              " ['песня', 'NOUN'],\n",
              " ['сама', 'PRON'],\n",
              " ['насмешка', 'NOUN'],\n",
              " ['даже', 'PART'],\n",
              " ['сама', 'DET'],\n",
              " ['угроза', 'NOUN'],\n",
              " ['все', 'PRON'],\n",
              " ['носит', 'VERB'],\n",
              " ['на', 'ADP'],\n",
              " ['себе', 'PRON'],\n",
              " ['характер', 'NOUN'],\n",
              " ['бессилия', 'NOUN'],\n",
              " ['и', 'CCONJ'],\n",
              " ['подавленности', 'NOUN'],\n",
              " ['все', 'DET'],\n",
              " ['песни', 'NOUN'],\n",
              " ['арго', 'NOUN'],\n",
              " ['напевы', 'NOUN'],\n",
              " ['которых', 'PRON'],\n",
              " ['сохранились', 'VERB'],\n",
              " ['до', 'ADP'],\n",
              " ['нашего', 'DET'],\n",
              " ['времени', 'NOUN'],\n",
              " ['были', 'VERB'],\n",
              " ['печальны', 'ADJ'],\n",
              " ['до', 'ADP'],\n",
              " ['слез', 'NOUN'],\n",
              " ['обездоленный', 'NOUN'],\n",
              " ['всегда', 'ADV'],\n",
              " ['рисуется', 'VERB'],\n",
              " ['в', 'ADP'],\n",
              " ['этих', 'DET'],\n",
              " ['песнях', 'NOUN'],\n",
              " ['зайцем', 'NOUN'],\n",
              " ['который', 'PRON'],\n",
              " ['прячется', 'VERB'],\n",
              " ['мышью', 'NOUN'],\n",
              " ['убегающей', 'VERB'],\n",
              " ['со', 'ADP'],\n",
              " ['всех', 'DET'],\n",
              " ['ног', 'NOUN'],\n",
              " ['птицей', 'NOUN'],\n",
              " ['спасающейся', 'VERB'],\n",
              " ['от', 'ADP'],\n",
              " ['ловцов', 'NOUN'],\n",
              " ['он', 'PRON'],\n",
              " ['едва', 'PART'],\n",
              " ['осмеливается', 'VERB'],\n",
              " ['требовать', 'VERB'],\n",
              " ['довольствуясь', 'VERB'],\n",
              " ['одними', 'DET'],\n",
              " ['вздохами', 'NOUN'],\n",
              " ['до', 'ADP'],\n",
              " ['нас', 'PRON'],\n",
              " ['дошло', 'VERB'],\n",
              " ['одно', 'NUM'],\n",
              " ['из', 'ADP'],\n",
              " ['таких', 'DET'],\n",
              " ['философских', 'ADJ'],\n",
              " ['стенаний', 'NOUN'],\n",
              " ['я', 'PRON'],\n",
              " ['мерекаю', 'VERB'],\n",
              " ['мерекаю', 'VERB'],\n",
              " ['и', 'CCONJ'],\n",
              " ['в', 'ADP'],\n",
              " ['толк', 'NOUN'],\n",
              " ['не', 'PART'],\n",
              " ['возьму', 'VERB'],\n",
              " ['как', 'ADV'],\n",
              " ['это', 'PRON'],\n",
              " ['боженька', 'NOUN'],\n",
              " ['всем', 'DET'],\n",
              " ['людям', 'NOUN'],\n",
              " ['папаша', 'NOUN'],\n",
              " ['может', 'VERB'],\n",
              " ['примучивать', 'VERB'],\n",
              " ['свое', 'DET'],\n",
              " ['ребятье', 'NOUN'],\n",
              " ['да', 'CCONJ'],\n",
              " ['еще', 'ADV'],\n",
              " ['малышей', 'NOUN'],\n",
              " ['как', 'ADV'],\n",
              " ['это', 'PRON'],\n",
              " ['ему', 'PRON'],\n",
              " ['везет', 'VERB'],\n",
              " ['слышать', 'VERB'],\n",
              " ['их', 'DET'],\n",
              " ['писк', 'NOUN'],\n",
              " ['и', 'CCONJ'],\n",
              " ['самому', 'PRON'],\n",
              " ['не', 'PART'],\n",
              " ['растормошиться', 'VERB'],\n",
              " ['около', 'ADP'],\n",
              " ['середины', 'NOUN'],\n",
              " ['прошедшего', 'ADJ'],\n",
              " ['столетия', 'NOUN'],\n",
              " ['произошла', 'VERB'],\n",
              " ['перемена', 'NOUN'],\n",
              " ['песни', 'NOUN'],\n",
              " ['тюрьмы', 'NOUN'],\n",
              " ['ритурнели', 'NOUN'],\n",
              " ['воров', 'NOUN'],\n",
              " ['приняли', 'VERB'],\n",
              " ['так', 'ADV'],\n",
              " ['сказать', 'VERB'],\n",
              " ['разбитной', 'ADJ'],\n",
              " ['ухарский', 'ADJ'],\n",
              " ['характер', 'NOUN'],\n",
              " ['жалобное', 'NOUN'],\n",
              " ['заменилось', 'VERB'],\n",
              " ['разухабистым', 'NOUN'],\n",
              " ['во', 'ADP'],\n",
              " ['всех', 'DET'],\n",
              " ['песнях', 'NOUN'],\n",
              " ['распевавшихся', 'VERB'],\n",
              " ['в', 'ADP'],\n",
              " ['восемнадцатом', 'ADJ'],\n",
              " ['столетии', 'NOUN'],\n",
              " ['в', 'ADP'],\n",
              " ['тюрьмах', 'NOUN'],\n",
              " ['на', 'ADP'],\n",
              " ['галерах', 'NOUN'],\n",
              " ['и', 'CCONJ'],\n",
              " ['на', 'ADP'],\n",
              " ['каторге', 'NOUN'],\n",
              " ['сквозит', 'VERB'],\n",
              " ['чисто', 'ADV'],\n",
              " ['дьявольское', 'ADJ'],\n",
              " ['загадочное', 'ADJ'],\n",
              " ['веселье', 'NOUN'],\n",
              " ['между', 'ADP'],\n",
              " ['прочим', 'PRON'],\n",
              " ['часто', 'ADV'],\n",
              " ['слышался', 'VERB'],\n",
              " ['следующий', 'ADJ'],\n",
              " ['резкий', 'ADJ'],\n",
              " ['точно', 'SCONJ'],\n",
              " ['подскакивающий', 'VERB'],\n",
              " ['припев', 'NOUN'],\n",
              " ['мерцающий', 'VERB'],\n",
              " ['фосфорическим', 'ADJ'],\n",
              " ['светом', 'NOUN'],\n",
              " ['и', 'CCONJ'],\n",
              " ['заброшенный', 'VERB'],\n",
              " ['в', 'ADP'],\n",
              " ['лес', 'NOUN'],\n",
              " ['трелью', 'NOUN'],\n",
              " ['дудочника', 'NOUN']]"
            ]
          },
          "metadata": {},
          "execution_count": 34
        }
      ]
    },
    {
      "cell_type": "markdown",
      "source": [
        "mistakes - словарь со списками ошибок каждого разметчика."
      ],
      "metadata": {
        "id": "A2F1Ic7Bs1cI"
      }
    },
    {
      "cell_type": "code",
      "source": [
        "mistakes = dict()"
      ],
      "metadata": {
        "id": "-hhIoDfslZ9P"
      },
      "execution_count": 35,
      "outputs": []
    },
    {
      "cell_type": "markdown",
      "source": [
        "Разметка с помощью UDPIPE, запись результатов в файл 1_pos.csv."
      ],
      "metadata": {
        "id": "MguKO_pjszLa"
      }
    },
    {
      "cell_type": "code",
      "source": [
        "spacy_udpipe.download(lang=\"ru\")\n",
        "nlp1 = spacy_udpipe.load(lang=\"ru\")\n",
        "doc = nlp1(raw)"
      ],
      "metadata": {
        "id": "XjnbHfQjgpuC"
      },
      "execution_count": null,
      "outputs": []
    },
    {
      "cell_type": "code",
      "source": [
        "f = open('1_pos.csv', 'w')\n",
        "writer = csv.writer(f)\n",
        "count = 0\n",
        "mistakes['1'] = list()\n",
        "for token in doc:\n",
        "  if token.pos_ != 'PUNCT':\n",
        "    writer.writerow([token.text.lower(), token.pos_])\n",
        "    if token.pos_ != pos0[count][1]:\n",
        "      mistakes['1'].append([count, token.pos_])\n",
        "    count += 1\n",
        "f.close()"
      ],
      "metadata": {
        "id": "tWYviyKpiMMY"
      },
      "execution_count": 38,
      "outputs": []
    },
    {
      "cell_type": "markdown",
      "source": [
        "Разметка с помощью STANZA, запись результатов в файл 2_pos.csv."
      ],
      "metadata": {
        "id": "rDpsb-LRtTCx"
      }
    },
    {
      "cell_type": "code",
      "source": [
        "nlp2 = stanza.Pipeline(lang='ru', processors='tokenize,pos')\n",
        "doc = nlp2(raw)"
      ],
      "metadata": {
        "id": "GU34q921l7Gw"
      },
      "execution_count": null,
      "outputs": []
    },
    {
      "cell_type": "code",
      "source": [
        "f = open('2_pos.csv', 'w')\n",
        "writer = csv.writer(f)\n",
        "count = 0\n",
        "mistakes['2'] = list()\n",
        "for sent in doc.sentences:\n",
        "  for token in sent.words:\n",
        "    if token.upos != 'PUNCT':\n",
        "      writer.writerow([token.text.lower(), token.upos])\n",
        "      if token.upos != pos0[count][1]:\n",
        "        mistakes['2'].append([count, token.upos])\n",
        "      count += 1\n",
        "f.close()"
      ],
      "metadata": {
        "id": "fRSjC5DLmbac"
      },
      "execution_count": 44,
      "outputs": []
    },
    {
      "cell_type": "markdown",
      "source": [
        "Разметка с помощью NATASHA, запись результатов в файл 1_pos.csv."
      ],
      "metadata": {
        "id": "vlgCvCZrtW9r"
      }
    },
    {
      "cell_type": "code",
      "source": [
        "emb = NewsEmbedding()\n",
        "morph_tagger = NewsMorphTagger(emb)\n",
        "doc = Doc(raw)\n",
        "segmenter = Segmenter()\n",
        "doc.segment(segmenter)\n",
        "morph_tagger = NewsMorphTagger(emb)\n",
        "doc.tag_morph(morph_tagger)"
      ],
      "metadata": {
        "id": "00nhRhq3nZVm"
      },
      "execution_count": 48,
      "outputs": []
    },
    {
      "cell_type": "code",
      "source": [
        "f = open('3_pos.csv', 'w')\n",
        "writer = csv.writer(f)\n",
        "count = 0\n",
        "mistakes['3'] = list()\n",
        "for token in doc.tokens:\n",
        "  if token.pos != 'PUNCT':\n",
        "    writer.writerow([token.text.lower(), token.pos])\n",
        "    if token.pos != pos0[count][1]:\n",
        "      mistakes['3'].append([count, token.pos])\n",
        "    count += 1\n",
        "f.close()\n"
      ],
      "metadata": {
        "id": "GhpV4PfVn-c9"
      },
      "execution_count": 49,
      "outputs": []
    },
    {
      "cell_type": "markdown",
      "source": [
        "Функция для подсчёта accuracy и вывода ошибок."
      ],
      "metadata": {
        "id": "EnFvuo30taer"
      }
    },
    {
      "cell_type": "code",
      "source": [
        "def accuracy(num):\n",
        "  all = len(pos0)\n",
        "  for token_m in mistakes[str(num)]:\n",
        "    print('токен: ', pos0[token_m[0]][0], '\\nправильный ответ: ', pos0[token_m[0]][1], '\\nответ модели: ', token_m[1], '\\n')\n",
        "  return 1 - len(mistakes[str(num)]) / all "
      ],
      "metadata": {
        "id": "GSLgiIRaoiEH"
      },
      "execution_count": 55,
      "outputs": []
    },
    {
      "cell_type": "markdown",
      "source": [
        "UDPIPE"
      ],
      "metadata": {
        "id": "J2IKzD4dtiw1"
      }
    },
    {
      "cell_type": "code",
      "source": [
        "print('UDPIPE accuracy score: ', accuracy(1))"
      ],
      "metadata": {
        "colab": {
          "base_uri": "https://localhost:8080/"
        },
        "id": "5zU-vaXPqGcC",
        "outputId": "1de9326e-ba1f-4dd1-ed7b-111374ba3eb9"
      },
      "execution_count": 57,
      "outputs": [
        {
          "output_type": "stream",
          "name": "stdout",
          "text": [
            "токен:  было \n",
            "правильный ответ:  VERB \n",
            "ответ модели:  AUX \n",
            "\n",
            "токен:  то \n",
            "правильный ответ:  CCONJ \n",
            "ответ модели:  SCONJ \n",
            "\n",
            "токен:  то \n",
            "правильный ответ:  CCONJ \n",
            "ответ модели:  SCONJ \n",
            "\n",
            "токен:  жалких \n",
            "правильный ответ:  ADJ \n",
            "ответ модели:  DET \n",
            "\n",
            "токен:  двора \n",
            "правильный ответ:  NOUN \n",
            "ответ модели:  PROPN \n",
            "\n",
            "токен:  быть \n",
            "правильный ответ:  VERB \n",
            "ответ модели:  AUX \n",
            "\n",
            "токен:  зловещее \n",
            "правильный ответ:  ADJ \n",
            "ответ модели:  NOUN \n",
            "\n",
            "токен:  сама \n",
            "правильный ответ:  DET \n",
            "ответ модели:  ADJ \n",
            "\n",
            "токен:  сама \n",
            "правильный ответ:  PRON \n",
            "ответ модели:  ADJ \n",
            "\n",
            "токен:  насмешка \n",
            "правильный ответ:  NOUN \n",
            "ответ модели:  ADV \n",
            "\n",
            "токен:  сама \n",
            "правильный ответ:  DET \n",
            "ответ модели:  ADJ \n",
            "\n",
            "токен:  были \n",
            "правильный ответ:  VERB \n",
            "ответ модели:  AUX \n",
            "\n",
            "токен:  обездоленный \n",
            "правильный ответ:  NOUN \n",
            "ответ модели:  VERB \n",
            "\n",
            "токен:  едва \n",
            "правильный ответ:  PART \n",
            "ответ модели:  ADV \n",
            "\n",
            "токен:  и \n",
            "правильный ответ:  CCONJ \n",
            "ответ модели:  PART \n",
            "\n",
            "токен:  как \n",
            "правильный ответ:  ADV \n",
            "ответ модели:  SCONJ \n",
            "\n",
            "токен:  как \n",
            "правильный ответ:  ADV \n",
            "ответ модели:  SCONJ \n",
            "\n",
            "токен:  самому \n",
            "правильный ответ:  PRON \n",
            "ответ модели:  ADJ \n",
            "\n",
            "токен:  ритурнели \n",
            "правильный ответ:  NOUN \n",
            "ответ модели:  VERB \n",
            "\n",
            "токен:  жалобное \n",
            "правильный ответ:  NOUN \n",
            "ответ модели:  ADJ \n",
            "\n",
            "токен:  разухабистым \n",
            "правильный ответ:  NOUN \n",
            "ответ модели:  VERB \n",
            "\n",
            "токен:  точно \n",
            "правильный ответ:  SCONJ \n",
            "ответ модели:  ADV \n",
            "\n",
            "токен:  трелью \n",
            "правильный ответ:  NOUN \n",
            "ответ модели:  NUM \n",
            "\n",
            "UDPIPE accuracy score:  0.9163636363636364\n"
          ]
        }
      ]
    },
    {
      "cell_type": "markdown",
      "source": [
        "STANZA"
      ],
      "metadata": {
        "id": "scxks8MptoP6"
      }
    },
    {
      "cell_type": "code",
      "source": [
        "print('STANZA accuracy score: ', accuracy(2))"
      ],
      "metadata": {
        "colab": {
          "base_uri": "https://localhost:8080/"
        },
        "id": "lAKUgsW6oubh",
        "outputId": "18eee51a-a739-4f35-c9d5-d8b4609d0a73"
      },
      "execution_count": 58,
      "outputs": [
        {
          "output_type": "stream",
          "name": "stdout",
          "text": [
            "токен:  было \n",
            "правильный ответ:  VERB \n",
            "ответ модели:  AUX \n",
            "\n",
            "токен:  то \n",
            "правильный ответ:  CCONJ \n",
            "ответ модели:  SCONJ \n",
            "\n",
            "токен:  то \n",
            "правильный ответ:  CCONJ \n",
            "ответ модели:  SCONJ \n",
            "\n",
            "токен:  двора \n",
            "правильный ответ:  NOUN \n",
            "ответ модели:  PROPN \n",
            "\n",
            "токен:  зловещее \n",
            "правильный ответ:  ADJ \n",
            "ответ модели:  VERB \n",
            "\n",
            "токен:  кипящими \n",
            "правильный ответ:  VERB \n",
            "ответ модели:  ADJ \n",
            "\n",
            "токен:  сама \n",
            "правильный ответ:  DET \n",
            "ответ модели:  ADJ \n",
            "\n",
            "токен:  сама \n",
            "правильный ответ:  PRON \n",
            "ответ модели:  ADJ \n",
            "\n",
            "токен:  сама \n",
            "правильный ответ:  DET \n",
            "ответ модели:  ADJ \n",
            "\n",
            "токен:  были \n",
            "правильный ответ:  VERB \n",
            "ответ модели:  AUX \n",
            "\n",
            "токен:  обездоленный \n",
            "правильный ответ:  NOUN \n",
            "ответ модели:  VERB \n",
            "\n",
            "токен:  одними \n",
            "правильный ответ:  DET \n",
            "ответ модели:  NUM \n",
            "\n",
            "токен:  как \n",
            "правильный ответ:  ADV \n",
            "ответ модели:  SCONJ \n",
            "\n",
            "токен:  самому \n",
            "правильный ответ:  PRON \n",
            "ответ модели:  ADJ \n",
            "\n",
            "токен:  жалобное \n",
            "правильный ответ:  NOUN \n",
            "ответ модели:  ADJ \n",
            "\n",
            "токен:  разухабистым \n",
            "правильный ответ:  NOUN \n",
            "ответ модели:  ADJ \n",
            "\n",
            "токен:  точно \n",
            "правильный ответ:  SCONJ \n",
            "ответ модели:  ADV \n",
            "\n",
            "STANZA accuracy score:  0.9381818181818182\n"
          ]
        }
      ]
    },
    {
      "cell_type": "markdown",
      "source": [
        "NATASHA"
      ],
      "metadata": {
        "id": "ZSk-4F8xtry_"
      }
    },
    {
      "cell_type": "code",
      "source": [
        "print('NATASHA accuracy score: ', accuracy(3))"
      ],
      "metadata": {
        "colab": {
          "base_uri": "https://localhost:8080/"
        },
        "id": "FemrIhYTq3Iz",
        "outputId": "9acf2ed5-2697-459c-9c82-a92a9c31f11c"
      },
      "execution_count": 59,
      "outputs": [
        {
          "output_type": "stream",
          "name": "stdout",
          "text": [
            "токен:  как \n",
            "правильный ответ:  SCONJ \n",
            "ответ модели:  ADV \n",
            "\n",
            "токен:  было \n",
            "правильный ответ:  VERB \n",
            "ответ модели:  AUX \n",
            "\n",
            "токен:  то \n",
            "правильный ответ:  CCONJ \n",
            "ответ модели:  SCONJ \n",
            "\n",
            "токен:  то \n",
            "правильный ответ:  CCONJ \n",
            "ответ модели:  SCONJ \n",
            "\n",
            "токен:  двора \n",
            "правильный ответ:  NOUN \n",
            "ответ модели:  PROPN \n",
            "\n",
            "токен:  поджаривают \n",
            "правильный ответ:  VERB \n",
            "ответ модели:  ADJ \n",
            "\n",
            "токен:  насаженного \n",
            "правильный ответ:  VERB \n",
            "ответ модели:  NOUN \n",
            "\n",
            "токен:  дымящийся \n",
            "правильный ответ:  VERB \n",
            "ответ модели:  ADJ \n",
            "\n",
            "токен:  зловещее \n",
            "правильный ответ:  ADJ \n",
            "ответ модели:  NOUN \n",
            "\n",
            "токен:  поджаривания \n",
            "правильный ответ:  NOUN \n",
            "ответ модели:  ADJ \n",
            "\n",
            "токен:  кипящими \n",
            "правильный ответ:  VERB \n",
            "ответ модели:  ADJ \n",
            "\n",
            "токен:  сама \n",
            "правильный ответ:  DET \n",
            "ответ модели:  ADJ \n",
            "\n",
            "токен:  сама \n",
            "правильный ответ:  PRON \n",
            "ответ модели:  ADJ \n",
            "\n",
            "токен:  сама \n",
            "правильный ответ:  DET \n",
            "ответ модели:  ADJ \n",
            "\n",
            "токен:  были \n",
            "правильный ответ:  VERB \n",
            "ответ модели:  AUX \n",
            "\n",
            "токен:  обездоленный \n",
            "правильный ответ:  NOUN \n",
            "ответ модели:  PROPN \n",
            "\n",
            "токен:  мерекаю \n",
            "правильный ответ:  VERB \n",
            "ответ модели:  NOUN \n",
            "\n",
            "токен:  как \n",
            "правильный ответ:  ADV \n",
            "ответ модели:  SCONJ \n",
            "\n",
            "токен:  боженька \n",
            "правильный ответ:  NOUN \n",
            "ответ модели:  VERB \n",
            "\n",
            "токен:  как \n",
            "правильный ответ:  ADV \n",
            "ответ модели:  SCONJ \n",
            "\n",
            "токен:  их \n",
            "правильный ответ:  DET \n",
            "ответ модели:  PRON \n",
            "\n",
            "токен:  самому \n",
            "правильный ответ:  PRON \n",
            "ответ модели:  ADJ \n",
            "\n",
            "токен:  растормошиться \n",
            "правильный ответ:  VERB \n",
            "ответ модели:  NOUN \n",
            "\n",
            "токен:  прошедшего \n",
            "правильный ответ:  ADJ \n",
            "ответ модели:  VERB \n",
            "\n",
            "токен:  ритурнели \n",
            "правильный ответ:  NOUN \n",
            "ответ модели:  VERB \n",
            "\n",
            "токен:  разбитной \n",
            "правильный ответ:  ADJ \n",
            "ответ модели:  NOUN \n",
            "\n",
            "токен:  жалобное \n",
            "правильный ответ:  NOUN \n",
            "ответ модели:  ADJ \n",
            "\n",
            "токен:  заменилось \n",
            "правильный ответ:  VERB \n",
            "ответ модели:  X \n",
            "\n",
            "токен:  дьявольское \n",
            "правильный ответ:  ADJ \n",
            "ответ модели:  NOUN \n",
            "\n",
            "токен:  прочим \n",
            "правильный ответ:  PRON \n",
            "ответ модели:  ADJ \n",
            "\n",
            "токен:  точно \n",
            "правильный ответ:  SCONJ \n",
            "ответ модели:  ADV \n",
            "\n",
            "токен:  подскакивающий \n",
            "правильный ответ:  VERB \n",
            "ответ модели:  ADJ \n",
            "\n",
            "токен:  трелью \n",
            "правильный ответ:  NOUN \n",
            "ответ модели:  ADJ \n",
            "\n",
            "NATASHA accuracy score:  0.88\n"
          ]
        }
      ]
    }
  ]
}